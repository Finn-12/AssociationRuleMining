{
 "cells": [
  {
   "cell_type": "code",
   "execution_count": 1,
   "id": "c54e52cb",
   "metadata": {},
   "outputs": [
    {
     "name": "stderr",
     "output_type": "stream",
     "text": [
      "Installing package into 'C:/Users/phuon/AppData/Local/R/win-library/4.3'\n",
      "(as 'lib' is unspecified)\n",
      "\n"
     ]
    },
    {
     "name": "stdout",
     "output_type": "stream",
     "text": [
      "package 'arules' successfully unpacked and MD5 sums checked\n",
      "\n",
      "The downloaded binary packages are in\n",
      "\tC:\\Users\\phuon\\AppData\\Local\\Temp\\RtmpwnpjfS\\downloaded_packages\n"
     ]
    },
    {
     "name": "stderr",
     "output_type": "stream",
     "text": [
      "Installing package into 'C:/Users/phuon/AppData/Local/R/win-library/4.3'\n",
      "(as 'lib' is unspecified)\n",
      "\n"
     ]
    },
    {
     "name": "stdout",
     "output_type": "stream",
     "text": [
      "package 'arulesViz' successfully unpacked and MD5 sums checked\n",
      "\n",
      "The downloaded binary packages are in\n",
      "\tC:\\Users\\phuon\\AppData\\Local\\Temp\\RtmpwnpjfS\\downloaded_packages\n"
     ]
    }
   ],
   "source": [
    "#install necessary packages (run only once)\n",
    "install.packages(\"arules\")\n",
    "install.packages(\"arulesViz\")"
   ]
  },
  {
   "cell_type": "code",
   "execution_count": 2,
   "id": "bbcc3860",
   "metadata": {},
   "outputs": [
    {
     "name": "stderr",
     "output_type": "stream",
     "text": [
      "Loading required package: Matrix\n",
      "\n",
      "\n",
      "Attaching package: 'arules'\n",
      "\n",
      "\n",
      "The following objects are masked from 'package:base':\n",
      "\n",
      "    abbreviate, write\n",
      "\n",
      "\n"
     ]
    }
   ],
   "source": [
    "library(arules)"
   ]
  },
  {
   "cell_type": "code",
   "execution_count": 34,
   "id": "b0f408b7",
   "metadata": {},
   "outputs": [],
   "source": [
    "#load datafrom the url\n",
    "data_url = url(\"https://hbiostat.org/data/repo/titanic.txt\") \n",
    "titanic = read.table(data_url, sep =',', header =TRUE)"
   ]
  },
  {
   "cell_type": "code",
   "execution_count": 48,
   "id": "9a6e87be",
   "metadata": {},
   "outputs": [],
   "source": [
    "load(\"titanic.raw.rdata\")\n",
    "\n",
    "titanic <- titanic.raw"
   ]
  },
  {
   "cell_type": "code",
   "execution_count": 49,
   "id": "4a24bbce",
   "metadata": {},
   "outputs": [
    {
     "data": {
      "text/html": [
       "<table class=\"dataframe\">\n",
       "<caption>A data.frame: 6 × 4</caption>\n",
       "<thead>\n",
       "\t<tr><th></th><th scope=col>Class</th><th scope=col>Sex</th><th scope=col>Age</th><th scope=col>Survived</th></tr>\n",
       "\t<tr><th></th><th scope=col>&lt;fct&gt;</th><th scope=col>&lt;fct&gt;</th><th scope=col>&lt;fct&gt;</th><th scope=col>&lt;fct&gt;</th></tr>\n",
       "</thead>\n",
       "<tbody>\n",
       "\t<tr><th scope=row>1</th><td>3rd</td><td>Male</td><td>Child</td><td>No</td></tr>\n",
       "\t<tr><th scope=row>2</th><td>3rd</td><td>Male</td><td>Child</td><td>No</td></tr>\n",
       "\t<tr><th scope=row>3</th><td>3rd</td><td>Male</td><td>Child</td><td>No</td></tr>\n",
       "\t<tr><th scope=row>4</th><td>3rd</td><td>Male</td><td>Child</td><td>No</td></tr>\n",
       "\t<tr><th scope=row>5</th><td>3rd</td><td>Male</td><td>Child</td><td>No</td></tr>\n",
       "\t<tr><th scope=row>6</th><td>3rd</td><td>Male</td><td>Child</td><td>No</td></tr>\n",
       "</tbody>\n",
       "</table>\n"
      ],
      "text/latex": [
       "A data.frame: 6 × 4\n",
       "\\begin{tabular}{r|llll}\n",
       "  & Class & Sex & Age & Survived\\\\\n",
       "  & <fct> & <fct> & <fct> & <fct>\\\\\n",
       "\\hline\n",
       "\t1 & 3rd & Male & Child & No\\\\\n",
       "\t2 & 3rd & Male & Child & No\\\\\n",
       "\t3 & 3rd & Male & Child & No\\\\\n",
       "\t4 & 3rd & Male & Child & No\\\\\n",
       "\t5 & 3rd & Male & Child & No\\\\\n",
       "\t6 & 3rd & Male & Child & No\\\\\n",
       "\\end{tabular}\n"
      ],
      "text/markdown": [
       "\n",
       "A data.frame: 6 × 4\n",
       "\n",
       "| <!--/--> | Class &lt;fct&gt; | Sex &lt;fct&gt; | Age &lt;fct&gt; | Survived &lt;fct&gt; |\n",
       "|---|---|---|---|---|\n",
       "| 1 | 3rd | Male | Child | No |\n",
       "| 2 | 3rd | Male | Child | No |\n",
       "| 3 | 3rd | Male | Child | No |\n",
       "| 4 | 3rd | Male | Child | No |\n",
       "| 5 | 3rd | Male | Child | No |\n",
       "| 6 | 3rd | Male | Child | No |\n",
       "\n"
      ],
      "text/plain": [
       "  Class Sex  Age   Survived\n",
       "1 3rd   Male Child No      \n",
       "2 3rd   Male Child No      \n",
       "3 3rd   Male Child No      \n",
       "4 3rd   Male Child No      \n",
       "5 3rd   Male Child No      \n",
       "6 3rd   Male Child No      "
      ]
     },
     "metadata": {},
     "output_type": "display_data"
    }
   ],
   "source": [
    "#observe the data\n",
    "##first 6 observations\n",
    "head(titanic)"
   ]
  },
  {
   "cell_type": "code",
   "execution_count": 50,
   "id": "18d90795",
   "metadata": {},
   "outputs": [
    {
     "name": "stdout",
     "output_type": "stream",
     "text": [
      "'data.frame':\t2201 obs. of  4 variables:\n",
      " $ Class   : Factor w/ 4 levels \"1st\",\"2nd\",\"3rd\",..: 3 3 3 3 3 3 3 3 3 3 ...\n",
      " $ Sex     : Factor w/ 2 levels \"Female\",\"Male\": 2 2 2 2 2 2 2 2 2 2 ...\n",
      " $ Age     : Factor w/ 2 levels \"Adult\",\"Child\": 2 2 2 2 2 2 2 2 2 2 ...\n",
      " $ Survived: Factor w/ 2 levels \"No\",\"Yes\": 1 1 1 1 1 1 1 1 1 1 ...\n"
     ]
    }
   ],
   "source": [
    "#types of features\n",
    "str(titanic)"
   ]
  },
  {
   "cell_type": "code",
   "execution_count": null,
   "id": "5e2ab5e5",
   "metadata": {},
   "outputs": [],
   "source": [
    "# Assuming you have a DataFrame named \"titanic\"\n",
    "titanic$survived <- ifelse(titanic$survived == 0, \"No\", \"Yes\")"
   ]
  },
  {
   "cell_type": "code",
   "execution_count": 51,
   "id": "4aa5f50a",
   "metadata": {},
   "outputs": [
    {
     "name": "stdout",
     "output_type": "stream",
     "text": [
      "Apriori\n",
      "\n",
      "Parameter specification:\n",
      " confidence minval smax arem  aval originalSupport maxtime support minlen\n",
      "        0.8    0.1    1 none FALSE            TRUE       5     0.1      1\n",
      " maxlen target  ext\n",
      "     10  rules TRUE\n",
      "\n",
      "Algorithmic control:\n",
      " filter tree heap memopt load sort verbose\n",
      "    0.1 TRUE TRUE  FALSE TRUE    2    TRUE\n",
      "\n",
      "Absolute minimum support count: 220 \n",
      "\n",
      "set item appearances ...[0 item(s)] done [0.00s].\n",
      "set transactions ...[10 item(s), 2201 transaction(s)] done [0.00s].\n",
      "sorting and recoding items ... [9 item(s)] done [0.00s].\n",
      "creating transaction tree ... done [0.00s].\n",
      "checking subsets of size 1 2 3 4 done [0.00s].\n",
      "writing ... [27 rule(s)] done [0.00s].\n",
      "creating S4 object  ... done [0.00s].\n"
     ]
    }
   ],
   "source": [
    "rules = apriori(titanic)"
   ]
  },
  {
   "cell_type": "code",
   "execution_count": 52,
   "id": "3b2923b7",
   "metadata": {},
   "outputs": [
    {
     "data": {
      "text/html": [
       "<style>\n",
       ".list-inline {list-style: none; margin:0; padding: 0}\n",
       ".list-inline>li {display: inline-block}\n",
       ".list-inline>li:not(:last-child)::after {content: \"\\00b7\"; padding: 0 .5ex}\n",
       "</style>\n",
       "<ol class=list-inline><li>2201</li><li>4</li></ol>\n"
      ],
      "text/latex": [
       "\\begin{enumerate*}\n",
       "\\item 2201\n",
       "\\item 4\n",
       "\\end{enumerate*}\n"
      ],
      "text/markdown": [
       "1. 2201\n",
       "2. 4\n",
       "\n",
       "\n"
      ],
      "text/plain": [
       "[1] 2201    4"
      ]
     },
     "metadata": {},
     "output_type": "display_data"
    }
   ],
   "source": [
    "#dimensionality of the data\n",
    "dim(titanic)"
   ]
  },
  {
   "cell_type": "code",
   "execution_count": 53,
   "id": "561b57d1",
   "metadata": {},
   "outputs": [
    {
     "name": "stdout",
     "output_type": "stream",
     "text": [
      "     lhs                                     rhs           support   confidence\n",
      "[1]  {}                                   => {Age=Adult}   0.9504771 0.9504771 \n",
      "[2]  {Class=2nd}                          => {Age=Adult}   0.1185825 0.9157895 \n",
      "[3]  {Class=1st}                          => {Age=Adult}   0.1449341 0.9815385 \n",
      "[4]  {Sex=Female}                         => {Age=Adult}   0.1930940 0.9042553 \n",
      "[5]  {Class=3rd}                          => {Age=Adult}   0.2848705 0.8881020 \n",
      "[6]  {Survived=Yes}                       => {Age=Adult}   0.2971377 0.9198312 \n",
      "[7]  {Class=Crew}                         => {Sex=Male}    0.3916402 0.9740113 \n",
      "[8]  {Class=Crew}                         => {Age=Adult}   0.4020900 1.0000000 \n",
      "[9]  {Survived=No}                        => {Sex=Male}    0.6197183 0.9154362 \n",
      "[10] {Survived=No}                        => {Age=Adult}   0.6533394 0.9651007 \n",
      "[11] {Sex=Male}                           => {Age=Adult}   0.7573830 0.9630272 \n",
      "[12] {Sex=Female, Survived=Yes}           => {Age=Adult}   0.1435711 0.9186047 \n",
      "[13] {Class=3rd, Sex=Male}                => {Survived=No} 0.1917310 0.8274510 \n",
      "[14] {Class=3rd, Survived=No}             => {Age=Adult}   0.2162653 0.9015152 \n",
      "[15] {Class=3rd, Sex=Male}                => {Age=Adult}   0.2099046 0.9058824 \n",
      "[16] {Sex=Male, Survived=Yes}             => {Age=Adult}   0.1535666 0.9209809 \n",
      "[17] {Class=Crew, Survived=No}            => {Sex=Male}    0.3044071 0.9955423 \n",
      "[18] {Class=Crew, Survived=No}            => {Age=Adult}   0.3057701 1.0000000 \n",
      "[19] {Class=Crew, Sex=Male}               => {Age=Adult}   0.3916402 1.0000000 \n",
      "[20] {Class=Crew, Age=Adult}              => {Sex=Male}    0.3916402 0.9740113 \n",
      "[21] {Sex=Male, Survived=No}              => {Age=Adult}   0.6038164 0.9743402 \n",
      "[22] {Age=Adult, Survived=No}             => {Sex=Male}    0.6038164 0.9242003 \n",
      "[23] {Class=3rd, Sex=Male, Survived=No}   => {Age=Adult}   0.1758292 0.9170616 \n",
      "[24] {Class=3rd, Age=Adult, Survived=No}  => {Sex=Male}    0.1758292 0.8130252 \n",
      "[25] {Class=3rd, Sex=Male, Age=Adult}     => {Survived=No} 0.1758292 0.8376623 \n",
      "[26] {Class=Crew, Sex=Male, Survived=No}  => {Age=Adult}   0.3044071 1.0000000 \n",
      "[27] {Class=Crew, Age=Adult, Survived=No} => {Sex=Male}    0.3044071 0.9955423 \n",
      "     coverage  lift      count\n",
      "[1]  1.0000000 1.0000000 2092 \n",
      "[2]  0.1294866 0.9635051  261 \n",
      "[3]  0.1476602 1.0326798  319 \n",
      "[4]  0.2135393 0.9513700  425 \n",
      "[5]  0.3207633 0.9343750  627 \n",
      "[6]  0.3230350 0.9677574  654 \n",
      "[7]  0.4020900 1.2384742  862 \n",
      "[8]  0.4020900 1.0521033  885 \n",
      "[9]  0.6769650 1.1639949 1364 \n",
      "[10] 0.6769650 1.0153856 1438 \n",
      "[11] 0.7864607 1.0132040 1667 \n",
      "[12] 0.1562926 0.9664669  316 \n",
      "[13] 0.2317129 1.2222950  422 \n",
      "[14] 0.2398910 0.9484870  476 \n",
      "[15] 0.2317129 0.9530818  462 \n",
      "[16] 0.1667424 0.9689670  338 \n",
      "[17] 0.3057701 1.2658514  670 \n",
      "[18] 0.3057701 1.0521033  673 \n",
      "[19] 0.3916402 1.0521033  862 \n",
      "[20] 0.4020900 1.2384742  862 \n",
      "[21] 0.6197183 1.0251065 1329 \n",
      "[22] 0.6533394 1.1751385 1329 \n",
      "[23] 0.1917310 0.9648435  387 \n",
      "[24] 0.2162653 1.0337773  387 \n",
      "[25] 0.2099046 1.2373791  387 \n",
      "[26] 0.3044071 1.0521033  670 \n",
      "[27] 0.3057701 1.2658514  670 \n"
     ]
    }
   ],
   "source": [
    "inspect(rules)"
   ]
  },
  {
   "cell_type": "code",
   "execution_count": 57,
   "id": "51d8a326",
   "metadata": {},
   "outputs": [
    {
     "name": "stdout",
     "output_type": "stream",
     "text": [
      "Apriori\n",
      "\n",
      "Parameter specification:\n",
      " confidence minval smax arem  aval originalSupport maxtime support minlen\n",
      "        0.8    0.1    1 none FALSE            TRUE       5     0.1      1\n",
      " maxlen target  ext\n",
      "     10  rules TRUE\n",
      "\n",
      "Algorithmic control:\n",
      " filter tree heap memopt load sort verbose\n",
      "    0.1 TRUE TRUE  FALSE TRUE    2    TRUE\n",
      "\n",
      "Absolute minimum support count: 220 \n",
      "\n",
      "set item appearances ...[2 item(s)] done [0.00s].\n",
      "set transactions ...[10 item(s), 2201 transaction(s)] done [0.00s].\n",
      "sorting and recoding items ... [9 item(s)] done [0.00s].\n",
      "creating transaction tree ... done [0.00s].\n",
      "checking subsets of size 1 2 3 4 done [0.00s].\n",
      "writing ... [2 rule(s)] done [0.00s].\n",
      "creating S4 object  ... done [0.00s].\n"
     ]
    }
   ],
   "source": [
    "#now let us assume, we want to see only those rules that have rhs as survived:\n",
    "rules = apriori(titanic,appearance = list(rhs=c(\"Survived=No\",\"Survived=Yes\"),default=\"lhs\"))"
   ]
  },
  {
   "cell_type": "code",
   "execution_count": 58,
   "id": "2783b3e9",
   "metadata": {
    "scrolled": true
   },
   "outputs": [
    {
     "name": "stdout",
     "output_type": "stream",
     "text": [
      "    lhs                                 rhs           support   confidence\n",
      "[1] {Class=3rd, Sex=Male}            => {Survived=No} 0.1917310 0.8274510 \n",
      "[2] {Class=3rd, Sex=Male, Age=Adult} => {Survived=No} 0.1758292 0.8376623 \n",
      "    coverage  lift     count\n",
      "[1] 0.2317129 1.222295 422  \n",
      "[2] 0.2099046 1.237379 387  \n"
     ]
    }
   ],
   "source": [
    "inspect(rules)"
   ]
  },
  {
   "cell_type": "code",
   "execution_count": 59,
   "id": "700bfe64",
   "metadata": {},
   "outputs": [
    {
     "name": "stdout",
     "output_type": "stream",
     "text": [
      "Apriori\n",
      "\n",
      "Parameter specification:\n",
      " confidence minval smax arem  aval originalSupport maxtime support minlen\n",
      "        0.8    0.1    1 none FALSE            TRUE       5    0.05      2\n",
      " maxlen target  ext\n",
      "     10  rules TRUE\n",
      "\n",
      "Algorithmic control:\n",
      " filter tree heap memopt load sort verbose\n",
      "    0.1 TRUE TRUE  FALSE TRUE    2    TRUE\n",
      "\n",
      "Absolute minimum support count: 110 \n",
      "\n",
      "set item appearances ...[2 item(s)] done [0.00s].\n",
      "set transactions ...[10 item(s), 2201 transaction(s)] done [0.00s].\n",
      "sorting and recoding items ... [9 item(s)] done [0.00s].\n",
      "creating transaction tree ... done [0.00s].\n",
      "checking subsets of size 1 2 3 4 done [0.00s].\n",
      "writing ... [6 rule(s)] done [0.00s].\n",
      "creating S4 object  ... done [0.00s].\n"
     ]
    }
   ],
   "source": [
    "#let us relax the default settings for the rules we arelooking for\n",
    "rules = apriori(titanic,parameter = list(minlen=2, supp=0.05,conf=0.8),appearance = list(rhs=c(\"Survived=No\",\"Survived=Yes\"),default=\"lhs\"))"
   ]
  },
  {
   "cell_type": "code",
   "execution_count": 80,
   "id": "c515e85f",
   "metadata": {},
   "outputs": [
    {
     "name": "stdout",
     "output_type": "stream",
     "text": [
      "    lhs                                   rhs            support    confidence\n",
      "[1] {Class=2nd, Sex=Male}              => {Survived=No}  0.06996820 0.8603352 \n",
      "[2] {Class=1st, Sex=Female}            => {Survived=Yes} 0.06406179 0.9724138 \n",
      "[3] {Class=3rd, Sex=Male}              => {Survived=No}  0.19173103 0.8274510 \n",
      "[4] {Class=2nd, Sex=Male, Age=Adult}   => {Survived=No}  0.06996820 0.9166667 \n",
      "[5] {Class=1st, Sex=Female, Age=Adult} => {Survived=Yes} 0.06360745 0.9722222 \n",
      "[6] {Class=3rd, Sex=Male, Age=Adult}   => {Survived=No}  0.17582917 0.8376623 \n",
      "    coverage   lift     count\n",
      "[1] 0.08132667 1.270871 154  \n",
      "[2] 0.06587915 3.010243 141  \n",
      "[3] 0.23171286 1.222295 422  \n",
      "[4] 0.07632894 1.354083 154  \n",
      "[5] 0.06542481 3.009650 140  \n",
      "[6] 0.20990459 1.237379 387  \n"
     ]
    }
   ],
   "source": [
    "inspect(rules)"
   ]
  },
  {
   "cell_type": "code",
   "execution_count": 70,
   "id": "43c4a879",
   "metadata": {},
   "outputs": [],
   "source": [
    "library(grid)"
   ]
  },
  {
   "cell_type": "code",
   "execution_count": 68,
   "id": "e4cef0e5",
   "metadata": {},
   "outputs": [],
   "source": [
    "library(arulesViz)"
   ]
  },
  {
   "cell_type": "code",
   "execution_count": 69,
   "id": "d22f7809",
   "metadata": {},
   "outputs": [
    {
     "name": "stderr",
     "output_type": "stream",
     "text": [
      "Warning message:\n",
      "\"Unknown control parameters: type\"\n"
     ]
    },
    {
     "name": "stdout",
     "output_type": "stream",
     "text": [
      "Available control parameters (with default values):\n",
      "layout\t =  stress\n",
      "circular\t =  FALSE\n",
      "ggraphdots\t =  NULL\n",
      "edges\t =  <environment>\n",
      "nodes\t =  <environment>\n",
      "nodetext\t =  <environment>\n",
      "colors\t =  c(\"#EE0000FF\", \"#EEEEEEFF\")\n",
      "engine\t =  ggplot2\n",
      "max\t =  100\n",
      "verbose\t =  FALSE\n"
     ]
    },
    {
     "data": {
      "image/png": "[encoded data removed]",
      "text/plain": [
       "plot without title"
      ]
     },
     "metadata": {
      "image/png": {
       "height": 420,
       "width": 420
      }
     },
     "output_type": "display_data"
    }
   ],
   "source": [
    "plot(rules, method=\"graph\", control=list(type=\"items\"))"
   ]
  },
  {
   "cell_type": "code",
   "execution_count": 72,
   "id": "19b5acf7",
   "metadata": {},
   "outputs": [
    {
     "data": {
      "image/png": "[encoded data removed]",
      "text/plain": [
       "plot without title"
      ]
     },
     "metadata": {
      "image/png": {
       "height": 420,
       "width": 420
      }
     },
     "output_type": "display_data"
    }
   ],
   "source": [
    "sort.rules <- sort(rules, by=\"lift\")\n",
    "plot(sort.rules, method=\"graph\")"
   ]
  },
  {
   "cell_type": "code",
   "execution_count": 76,
   "id": "04d54d88",
   "metadata": {},
   "outputs": [
    {
     "data": {
      "image/png": "[encoded data removed]",
      "text/plain": [
       "plot without title"
      ]
     },
     "metadata": {
      "image/png": {
       "height": 420,
       "width": 420
      }
     },
     "output_type": "display_data"
    }
   ],
   "source": [
    "plot(rules, method=\"paracoord\")"
   ]
  },
  {
   "cell_type": "code",
   "execution_count": 79,
   "id": "7b098621",
   "metadata": {},
   "outputs": [
    {
     "data": {
      "image/png": "[encoded data removed]",
      "text/plain": [
       "plot without title"
      ]
     },
     "metadata": {
      "image/png": {
       "height": 420,
       "width": 420
      }
     },
     "output_type": "display_data"
    }
   ],
   "source": [
    "plot(rules, method=\"grouped\", control=list(k=6))"
   ]
  },
  {
   "cell_type": "markdown",
   "id": "80343380",
   "metadata": {},
   "source": [
    "# Describe the dataset"
   ]
  },
  {
   "cell_type": "markdown",
   "id": "7e973a11",
   "metadata": {},
   "source": [
    "The dataset contains 2,201 observations, and 4 variables. Here is a breakdown of the 4 variables:\n",
    "\n",
    "- Class: It has four levels, \"1st,\" \"2nd,\" \"3rd,\" and \"Crew,\" representing different classes of passengers.\n",
    "- Sex: It has two levels, \"Female\" and \"Male,\" representing the gender of the passengers.\n",
    "- Age: It has two levels, \"Adult\" and \"Child,\" indicating whether the passenger is an adult or a child.\n",
    "- Survived: It has two levels, \"No\" and \"Yes,\" indicating whether the passenger survived or not."
   ]
  },
  {
   "cell_type": "markdown",
   "id": "94170a1a",
   "metadata": {},
   "source": [
    "# Interprete the output "
   ]
  },
  {
   "cell_type": "markdown",
   "id": "6b98045d",
   "metadata": {},
   "source": [
    "Based on the association rules' result and graphs, we can tell that:\n",
    "\n",
    "- Being an adult is strongly associated with a higher likelihood of survival. Also, because of the majority of passengers are adults as well, so the results showed that they have a higher proportion of survived compared to (Age=Child)\n",
    "\n",
    "- the result shows that being a female have relatively higher likelihood of survival. The support and confidence values a high, indicating that a significant proportion of females in the dataset survived. \n",
    "\n",
    "- In terms of classes, passengers in 1st class and 2nd classes have a higher likelihood of survival compared to people in 3rd class. \n",
    "\n",
    "Overall, these rules suggest that being an adult, being female, adn being inthe higher classes (1st class and 2nd class) are generally associated with a higher likelihood of survival. "
   ]
  },
  {
   "cell_type": "markdown",
   "id": "2859bf8e",
   "metadata": {},
   "source": [
    "# Task 6\n"
   ]
  },
  {
   "cell_type": "markdown",
   "id": "8998270f",
   "metadata": {},
   "source": [
    "The redundancy of rules refers to situations where one rule provides the same information as another rule or a subset of another rule. In other words, redundant rules do not provide any additional knowledge beyond what is already captured by other rules."
   ]
  },
  {
   "cell_type": "markdown",
   "id": "1b9e7ad2",
   "metadata": {},
   "source": [
    "For example, if we already knew the result of  {Class=’2nd’, Age=’Child’}→ {’Survived’=’Yes’},then {Class=’2nd’, Age=’Child’,Sex=’Female’}→ {’Survived’=’Yes’} is not really necessary because not matter it is a female kid or male kid, we will still know the likelihood of their survival via this rule ({Class=’2nd’, Age=’Child’}→ {’Survived’=’Yes’}). "
   ]
  },
  {
   "cell_type": "code",
   "execution_count": 83,
   "id": "35df0db2",
   "metadata": {},
   "outputs": [
    {
     "name": "stdout",
     "output_type": "stream",
     "text": [
      "Apriori\n",
      "\n",
      "Parameter specification:\n",
      " confidence minval smax arem  aval originalSupport maxtime support minlen\n",
      "        0.8    0.1    1 none FALSE            TRUE       5    0.05      2\n",
      " maxlen target  ext\n",
      "     10  rules TRUE\n",
      "\n",
      "Algorithmic control:\n",
      " filter tree heap memopt load sort verbose\n",
      "    0.1 TRUE TRUE  FALSE TRUE    2    TRUE\n",
      "\n",
      "Absolute minimum support count: 110 \n",
      "\n",
      "set item appearances ...[2 item(s)] done [0.00s].\n",
      "set transactions ...[10 item(s), 2201 transaction(s)] done [0.00s].\n",
      "sorting and recoding items ... [9 item(s)] done [0.00s].\n",
      "creating transaction tree ... done [0.00s].\n",
      "checking subsets of size 1 2 3 4 done [0.00s].\n",
      "writing ... [6 rule(s)] done [0.00s].\n",
      "creating S4 object  ... done [0.00s].\n"
     ]
    }
   ],
   "source": [
    "redundant_rules = apriori(titanic,parameter = list(minlen=2, supp=0.05,conf=0.8),appearance = list(rhs=c(\"Survived=No\",\"Survived=Yes\"),default=\"lhs\"))"
   ]
  },
  {
   "cell_type": "markdown",
   "id": "5e3c73d0",
   "metadata": {},
   "source": [
    "## Filter out the redundancy "
   ]
  },
  {
   "cell_type": "code",
   "execution_count": 84,
   "id": "cdb73c99",
   "metadata": {},
   "outputs": [
    {
     "name": "stdout",
     "output_type": "stream",
     "text": [
      "    lhs                                   rhs            support    confidence\n",
      "[1] {Class=2nd, Sex=Male}              => {Survived=No}  0.06996820 0.8603352 \n",
      "[2] {Class=1st, Sex=Female}            => {Survived=Yes} 0.06406179 0.9724138 \n",
      "[3] {Class=3rd, Sex=Male}              => {Survived=No}  0.19173103 0.8274510 \n",
      "[4] {Class=2nd, Sex=Male, Age=Adult}   => {Survived=No}  0.06996820 0.9166667 \n",
      "[5] {Class=1st, Sex=Female, Age=Adult} => {Survived=Yes} 0.06360745 0.9722222 \n",
      "[6] {Class=3rd, Sex=Male, Age=Adult}   => {Survived=No}  0.17582917 0.8376623 \n",
      "    coverage   lift     count\n",
      "[1] 0.08132667 1.270871 154  \n",
      "[2] 0.06587915 3.010243 141  \n",
      "[3] 0.23171286 1.222295 422  \n",
      "[4] 0.07632894 1.354083 154  \n",
      "[5] 0.06542481 3.009650 140  \n",
      "[6] 0.20990459 1.237379 387  \n"
     ]
    }
   ],
   "source": [
    "inspect(redundant_rules)"
   ]
  },
  {
   "cell_type": "code",
   "execution_count": 86,
   "id": "b420033f",
   "metadata": {},
   "outputs": [],
   "source": [
    "non_redundant_rules <- redundant_rules[!is.redundant(redundant_rules)]"
   ]
  },
  {
   "cell_type": "code",
   "execution_count": 87,
   "id": "2b4ca4b1",
   "metadata": {},
   "outputs": [
    {
     "name": "stdout",
     "output_type": "stream",
     "text": [
      "    lhs                                 rhs            support    confidence\n",
      "[1] {Class=2nd, Sex=Male}            => {Survived=No}  0.06996820 0.8603352 \n",
      "[2] {Class=1st, Sex=Female}          => {Survived=Yes} 0.06406179 0.9724138 \n",
      "[3] {Class=3rd, Sex=Male}            => {Survived=No}  0.19173103 0.8274510 \n",
      "[4] {Class=2nd, Sex=Male, Age=Adult} => {Survived=No}  0.06996820 0.9166667 \n",
      "[5] {Class=3rd, Sex=Male, Age=Adult} => {Survived=No}  0.17582917 0.8376623 \n",
      "    coverage   lift     count\n",
      "[1] 0.08132667 1.270871 154  \n",
      "[2] 0.06587915 3.010243 141  \n",
      "[3] 0.23171286 1.222295 422  \n",
      "[4] 0.07632894 1.354083 154  \n",
      "[5] 0.20990459 1.237379 387  \n"
     ]
    }
   ],
   "source": [
    "inspect(non_redundant_rules)"
   ]
  }
 ],
 "metadata": {
  "kernelspec": {
   "display_name": "R",
   "language": "R",
   "name": "ir"
  },
  "language_info": {
   "codemirror_mode": "r",
   "file_extension": ".r",
   "mimetype": "text/x-r-source",
   "name": "R",
   "pygments_lexer": "r",
   "version": "4.3.1"
  }
 },
 "nbformat": 4,
 "nbformat_minor": 5
}
